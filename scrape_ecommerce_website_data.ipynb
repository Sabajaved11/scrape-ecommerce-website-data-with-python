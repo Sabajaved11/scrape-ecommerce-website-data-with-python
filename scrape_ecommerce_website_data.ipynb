{
  "nbformat": 4,
  "nbformat_minor": 0,
  "metadata": {
    "colab": {
      "provenance": [],
      "authorship_tag": "ABX9TyM5nmWzG56vc0gl1qdl9UBL"
    },
    "kernelspec": {
      "name": "python3",
      "display_name": "Python 3"
    },
    "language_info": {
      "name": "python"
    }
  },
  "cells": [
    {
      "cell_type": "code",
      "execution_count": 176,
      "metadata": {
        "id": "UcThGLluv5ya"
      },
      "outputs": [],
      "source": [
        "import numpy as np\n",
        "import pandas as pd\n",
        "import requests\n",
        "from bs4 import BeautifulSoup"
      ]
    },
    {
      "cell_type": "code",
      "source": [
        "url = 'https://www.affordable.pk/Kids-Girl'"
      ],
      "metadata": {
        "id": "HaTYlT-dv7oL"
      },
      "execution_count": 177,
      "outputs": []
    },
    {
      "cell_type": "code",
      "source": [
        "headers = {\n",
        "    'User-Agent': 'Mozilla/5.0 (Windows NT 10.0) AppleWebKit/537.36 (KHTML, like Gecko) Chrome/84.0.4147.89 Safari/537.36', 'Accept-Language': 'en-US, en;q=0.5'\n",
        "}"
      ],
      "metadata": {
        "id": "xjihQQTov71M"
      },
      "execution_count": 191,
      "outputs": []
    },
    {
      "cell_type": "code",
      "source": [
        "webpage = requests.get(url, headers=headers)\n",
        "if webpage.status_code == 200:\n",
        " soup = BeautifulSoup(webpage.content, \"html.parser\")"
      ],
      "metadata": {
        "id": "Kb8ro1o-v76q"
      },
      "execution_count": 192,
      "outputs": []
    },
    {
      "cell_type": "code",
      "source": [
        "def get_titles(soup1):\n",
        "  try:\n",
        "      title = soup1.find(\"h1\", attrs={'class' :'title'})\n",
        "      title = title.text\n",
        "      return title\n",
        "  except AttributeError:\n",
        "   return None"
      ],
      "metadata": {
        "id": "nX9_qVm1V3aw"
      },
      "execution_count": 200,
      "outputs": []
    },
    {
      "cell_type": "code",
      "source": [
        "def get_price(soup1):\n",
        "  try:\n",
        "     price = soup1.find(\"span\", attrs={'class':'real-price'})\n",
        "     if price is not None:\n",
        "       price = price.text.strip()\n",
        "       return price\n",
        "     else:\n",
        "       return 'N/A'\n",
        "  except AttributeError:\n",
        "        return 'N/A'         "
      ],
      "metadata": {
        "id": "rIesE8LXZXh8"
      },
      "execution_count": 194,
      "outputs": []
    },
    {
      "cell_type": "code",
      "source": [
        "def off_price(soup1):\n",
        "  try:\n",
        "     discount = soup1.find(\"span\", attrs={'class':'price-offf'})\n",
        "     if discount is not None:\n",
        "        price = discount.text.strip()\n",
        "        # Append the price to the prices list\n",
        "        return price\n",
        "     else:\n",
        "        # If price_span is None, add 'N/A' to the prices list\n",
        "        return 0\n",
        "  except AttributeError:\n",
        "        return 'N/A'     "
      ],
      "metadata": {
        "id": "t227og-ljxCY"
      },
      "execution_count": 195,
      "outputs": []
    },
    {
      "cell_type": "code",
      "source": [
        "def product_ratings(soup1):\n",
        "  try:\n",
        "      rating = soup1.find(\"div\", attrs={'class':'star-ratings'})\n",
        "      if rating is not None:\n",
        "            rating_span = rating('span')[0]\n",
        "            actual_rating = rating_span.text.split()[0]\n",
        "            return actual_rating\n",
        "      else:\n",
        "            return 'N/A'\n",
        "  except AttributeError:\n",
        "        return 'N/A'"
      ],
      "metadata": {
        "id": "1P8BfNRLpvn0"
      },
      "execution_count": 196,
      "outputs": []
    },
    {
      "cell_type": "code",
      "source": [
        "links = soup.find_all(\"p\", attrs={'class':'title'})\n",
        "link_list=[]\n",
        "for link in links:\n",
        "  href = link.find('a')['href']\n",
        "  link_list.append(href)"
      ],
      "metadata": {
        "id": "6JLt4APqAD-X"
      },
      "execution_count": null,
      "outputs": []
    },
    {
      "cell_type": "code",
      "source": [
        "d = {'titles' :[] , 'prices':[], 'price_off':[], 'ratings':[]}\n",
        "for product_info in link_list:\n",
        "   try:\n",
        "       response = requests.get(product_info, headers=headers)\n",
        "       soup1 = BeautifulSoup(response.content, 'html.parser')\n",
        "       d['titles'].append(get_titles(soup1))\n",
        "       d['prices'].append(get_price(soup1))\n",
        "       d['price_off'].append(off_price(soup1))\n",
        "       d['ratings'].append(product_ratings(soup1))\n",
        "   except Exception as e:\n",
        "        print(f\"Error: {e}\")   "
      ],
      "metadata": {
        "id": "kke8NUglfX5o"
      },
      "execution_count": 202,
      "outputs": []
    },
    {
      "cell_type": "code",
      "source": [
        "df= pd.DataFrame.from_dict(d)"
      ],
      "metadata": {
        "id": "ASGatqr2hp4g"
      },
      "execution_count": 210,
      "outputs": []
    },
    {
      "cell_type": "code",
      "source": [
        "df.to_csv(\"scrape_data.csv\", header=True, index=False)"
      ],
      "metadata": {
        "id": "Nq_vjaJc_rSb"
      },
      "execution_count": 213,
      "outputs": []
    }
  ]
}